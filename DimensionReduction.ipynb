{
  "nbformat": 4,
  "nbformat_minor": 0,
  "metadata": {
    "colab": {
      "provenance": [],
      "mount_file_id": "18WhS9CfM3Y84VmIWvm_KQqIrLKxtS4fn",
      "authorship_tag": "ABX9TyMPCmMVxucyfSMFJKlVeWSF",
      "include_colab_link": true
    },
    "kernelspec": {
      "name": "python3",
      "display_name": "Python 3"
    },
    "language_info": {
      "name": "python"
    }
  },
  "cells": [
    {
      "cell_type": "markdown",
      "metadata": {
        "id": "view-in-github",
        "colab_type": "text"
      },
      "source": [
        "<a href=\"https://colab.research.google.com/github/Geetanshi-jain/DSAssignmentByGeetanshijain/blob/main/DimensionReduction.ipynb\" target=\"_parent\"><img src=\"https://colab.research.google.com/assets/colab-badge.svg\" alt=\"Open In Colab\"/></a>"
      ]
    },
    {
      "cell_type": "code",
      "execution_count": 3,
      "metadata": {
        "colab": {
          "base_uri": "https://localhost:8080/"
        },
        "id": "LnXec_88vOuP",
        "outputId": "157f3c5f-5633-40a4-ce0d-6f8334a3f3f1"
      },
      "outputs": [
        {
          "output_type": "stream",
          "name": "stdout",
          "text": [
            "VIF Values: [78.65713695305595, 1.883148730955279, 1.0088328589593334, 1.8827674971605441]\n"
          ]
        }
      ],
      "source": [
        "import pandas as pd\n",
        "import statsmodels.api as sm\n",
        "import statsmodels.stats.outliers_influence as inf\n",
        "\n",
        "# Load the dataset\n",
        "cereals = pd.read_csv('/content/drive/MyDrive/Colab Notebooks/cereals.csv')  # Ensure the 'cereals.csv' file is in the same directory or provide the full path\n",
        "\n",
        "# Setting Up the Data (Selecting Columns)\n",
        "X = cereals[['Sugars', 'Fiber', 'Potass']]\n",
        "\n",
        "# Adding a Constant Column\n",
        "X = sm.add_constant(X)\n",
        "\n",
        "# Calculating VIF Values\n",
        "vif_values = [inf.variance_inflation_factor(X.values, i) for i in range(X.shape[1])]\n",
        "print(\"VIF Values:\", vif_values)\n",
        "\n",
        "# Explanation of the output:\n",
        "# The output is a list of VIF values for each predictor. The first value corresponds to the constant,\n",
        "# and the rest correspond to each predictor column in the order they were specified.\n",
        "\n",
        "# Summary:\n",
        "# This code checks for multicollinearity in the predictors by calculating the VIF values for each predictor.\n",
        "# A high VIF value (typically above 5 or 10) suggests multicollinearity, which may indicate redundant predictors.\n"
      ]
    }
  ]
}