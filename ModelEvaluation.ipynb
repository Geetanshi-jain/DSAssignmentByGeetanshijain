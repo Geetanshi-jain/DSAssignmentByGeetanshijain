{
  "nbformat": 4,
  "nbformat_minor": 0,
  "metadata": {
    "colab": {
      "provenance": [],
      "authorship_tag": "ABX9TyMbbcJzHG/9w+R9EHuAblwj",
      "include_colab_link": true
    },
    "kernelspec": {
      "name": "python3",
      "display_name": "Python 3"
    },
    "language_info": {
      "name": "python"
    }
  },
  "cells": [
    {
      "cell_type": "markdown",
      "metadata": {
        "id": "view-in-github",
        "colab_type": "text"
      },
      "source": [
        "<a href=\"https://colab.research.google.com/github/Geetanshi-jain/DSAssignmentByGeetanshijain/blob/main/ModelEvaluation.ipynb\" target=\"_parent\"><img src=\"https://colab.research.google.com/assets/colab-badge.svg\" alt=\"Open In Colab\"/></a>"
      ]
    },
    {
      "cell_type": "code",
      "execution_count": 2,
      "metadata": {
        "colab": {
          "base_uri": "https://localhost:8080/"
        },
        "id": "sdPE3CAQ4rq7",
        "outputId": "90efc75a-33c2-4c99-f97f-01ab33b7219f"
      },
      "outputs": [
        {
          "output_type": "stream",
          "name": "stdout",
          "text": [
            "Sample CSV files created successfully.\n",
            "Training Data Columns: ['Days.since.Purchase', 'Number.of.Purchase.Visits', 'Sales.per.Visit', 'Response']\n",
            "Test Data Columns: ['Days.since.Purchase', 'Number.of.Purchase.Visits', 'Sales.per.Visit', 'Response']\n",
            "           Predicted: 0  Predicted: 1  Total\n",
            "Actual: 0             1             0      1\n",
            "Actual: 1             0             2      2\n",
            "Total                 1             2      3\n"
          ]
        }
      ],
      "source": [
        "import pandas as pd\n",
        "from sklearn.tree import DecisionTreeClassifier\n",
        "from sklearn.metrics import confusion_matrix\n",
        "\n",
        "# Sample data for clothing_data_driven_training\n",
        "training_data = {\n",
        "    'Days.since.Purchase': [10, 20, 30, 40, 50],\n",
        "    'Number.of.Purchase.Visits': [1, 2, 1, 2, 3],\n",
        "    'Sales.per.Visit': [100, 200, 150, 300, 250],\n",
        "    'Response': [0, 1, 0, 1, 1]  # Binary response variable\n",
        "}\n",
        "\n",
        "# Sample data for clothing_data_driven_test\n",
        "test_data = {\n",
        "    'Days.since.Purchase': [15, 25, 35],\n",
        "    'Number.of.Purchase.Visits': [1, 2, 3],\n",
        "    'Sales.per.Visit': [120, 220, 180],\n",
        "    'Response': [0, 1, 1]  # Actual response for evaluation\n",
        "}\n",
        "\n",
        "# Create DataFrames\n",
        "training_df = pd.DataFrame(training_data)\n",
        "test_df = pd.DataFrame(test_data)\n",
        "\n",
        "# Save to CSV files\n",
        "training_df.to_csv('clothing_data_driven_training.csv', index=False)\n",
        "test_df.to_csv('clothing_data_driven_test.csv', index=False)\n",
        "\n",
        "print(\"Sample CSV files created successfully.\")\n",
        "\n",
        "# Step 2: Load the Data\n",
        "clothing_train = pd.read_csv('clothing_data_driven_training.csv')\n",
        "clothing_test = pd.read_csv('clothing_data_driven_test.csv')\n",
        "\n",
        "# Check the columns of the loaded DataFrames\n",
        "print(\"Training Data Columns:\", clothing_train.columns.tolist())\n",
        "print(\"Test Data Columns:\", clothing_test.columns.tolist())\n",
        "\n",
        "# Step 3: Train the Model\n",
        "# Define predictor variables and response variable\n",
        "X_train = clothing_train[['Days.since.Purchase', 'Number.of.Purchase.Visits', 'Sales.per.Visit']]\n",
        "y_train = clothing_train['Response']\n",
        "\n",
        "# Create and fit the model\n",
        "model = DecisionTreeClassifier()  # You can specify additional parameters here\n",
        "model.fit(X_train, y_train)\n",
        "\n",
        "# Step 4: Make Predictions\n",
        "# Subset the predictor variables from the test data\n",
        "X_test = clothing_test[['Days.since.Purchase', 'Number.of.Purchase.Visits', 'Sales.per.Visit']]\n",
        "ypred = model.predict(X_test)\n",
        "\n",
        "# Step 5: Evaluate the Model\n",
        "# Create the confusion matrix\n",
        "conf_matrix = confusion_matrix(clothing_test['Response'], ypred)\n",
        "\n",
        "# Display the confusion matrix\n",
        "conf_matrix_df = pd.DataFrame(conf_matrix,\n",
        "                               index=['Actual: 0', 'Actual: 1'],\n",
        "                               columns=['Predicted: 0', 'Predicted: 1'])\n",
        "\n",
        "# Add margins (totals)\n",
        "conf_matrix_df.loc['Total'] = conf_matrix_df.sum()\n",
        "conf_matrix_df['Total'] = conf_matrix_df.sum(axis=1)\n",
        "\n",
        "print(conf_matrix_df)"
      ]
    },
    {
      "cell_type": "code",
      "source": [
        "import pandas as pd\n",
        "from sklearn.datasets import load_iris\n",
        "from sklearn.model_selection import train_test_split\n",
        "from sklearn.tree import DecisionTreeClassifier\n",
        "from sklearn.metrics import confusion_matrix, classification_report\n",
        "import seaborn as sns\n",
        "import matplotlib.pyplot as plt\n",
        "\n",
        "# Step 1: Load the Iris dataset\n",
        "iris = load_iris()\n",
        "X = iris.data\n",
        "y = iris.target\n",
        "\n",
        "# Step 2: Split the data into training and testing sets\n",
        "X_train, X_test, y_train, y_test = train_test_split(X, y, test_size=0.3, random_state=42)\n",
        "\n",
        "# Step 3: Create and fit the Decision Tree model\n",
        "model = DecisionTreeClassifier(random_state=42)\n",
        "model.fit(X_train, y_train)\n",
        "\n",
        "# Step 4: Make predictions on the test set\n",
        "y_pred = model.predict(X_test)\n",
        "\n",
        "# Step 5: Generate the confusion matrix\n",
        "conf_matrix = confusion_matrix(y_test, y_pred)\n",
        "\n",
        "# Step 6: Generate the classification report\n",
        "class_report = classification_report(y_test, y_pred, target_names=iris.target_names)\n",
        "\n",
        "# Step 7: Print the classification report\n",
        "print(\"Classification Report:\\n\", class_report)\n",
        "\n",
        "# Step 8: Visualize the confusion matrix\n",
        "plt.figure(figsize=(8, 6))\n",
        "sns.heatmap(conf_matrix, annot=True, fmt='d', cmap='YlGnBu',\n",
        "            xticklabels=iris.target_names, yticklabels=iris.target_names)\n",
        "plt.ylabel('Actual')\n",
        "plt.xlabel('Predicted')\n",
        "plt.title('Confusion Matrix')\n",
        "plt.show()"
      ],
      "metadata": {
        "colab": {
          "base_uri": "https://localhost:8080/",
          "height": 755
        },
        "id": "1s3B5eM85yuu",
        "outputId": "91b25ef0-bb4f-4bc6-e209-24fae1ff3ce6"
      },
      "execution_count": 3,
      "outputs": [
        {
          "output_type": "stream",
          "name": "stdout",
          "text": [
            "Classification Report:\n",
            "               precision    recall  f1-score   support\n",
            "\n",
            "      setosa       1.00      1.00      1.00        19\n",
            "  versicolor       1.00      1.00      1.00        13\n",
            "   virginica       1.00      1.00      1.00        13\n",
            "\n",
            "    accuracy                           1.00        45\n",
            "   macro avg       1.00      1.00      1.00        45\n",
            "weighted avg       1.00      1.00      1.00        45\n",
            "\n"
          ]
        },
        {
          "output_type": "display_data",
          "data": {
            "text/plain": [
              "<Figure size 800x600 with 2 Axes>"
            ],
            "image/png": "[encoded data removed]"
          },
          "metadata": {}
        }
      ]
    }
  ]
}