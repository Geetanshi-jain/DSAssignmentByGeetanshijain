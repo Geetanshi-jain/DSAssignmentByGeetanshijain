{
  "nbformat": 4,
  "nbformat_minor": 0,
  "metadata": {
    "colab": {
      "provenance": [],
      "include_colab_link": true
    },
    "kernelspec": {
      "name": "python3",
      "display_name": "Python 3"
    },
    "language_info": {
      "name": "python"
    }
  },
  "cells": [
    {
      "cell_type": "markdown",
      "metadata": {
        "id": "view-in-github",
        "colab_type": "text"
      },
      "source": [
        "<a href=\"https://colab.research.google.com/github/Geetanshi-jain/DSAssignmentByGeetanshijain/blob/main/LOGISTIC_REGRESSION_MODELLING.ipynb\" target=\"_parent\"><img src=\"https://colab.research.google.com/assets/colab-badge.svg\" alt=\"Open In Colab\"/></a>"
      ]
    },
    {
      "cell_type": "code",
      "execution_count": null,
      "metadata": {
        "id": "mudxOQTcm9El"
      },
      "outputs": [],
      "source": []
    },
    {
      "cell_type": "markdown",
      "source": [
        "\n",
        "# Logistic Regression Modeling\n",
        "\n",
        "## Logistic Regression\n",
        "Logistic Regression helps when we want to make \"Yes or No\" (binary) predictions. For example, let’s say we want to predict if a customer has a store credit card or not (Yes or No). Logistic Regression is perfect for situations where the answer is either 1 or 0.\n",
        "\n",
        "### How to Perform Logistic Regression Using Python\n",
        "Doing Logistic Regression in Python is simple. Here’s how:\n",
        "\n",
        "1. **Load the Data**: First, we load the data and separate the predictor variables (like `'Days'` and `'Web'`) and the response variable (`'CC'` for credit card).\n",
        "\n",
        "   ```python\n",
        "   import pandas as pd\n",
        "   import statsmodels.api as sm\n",
        "   \n",
        "   # Load the data\n",
        "   sales_train = pd.read_csv(\"clothing_sales_training.csv\")\n",
        "   X = pd.DataFrame(sales_train[['Days', 'Web']])\n",
        "   X = sm.add_constant(X)  # Add a constant term\n",
        "   y = pd.DataFrame(sales_train[['CC']])\n",
        "   ```\n",
        "\n",
        "2. **Build and Fit the Model**: Next, we use `Logit()` and `fit()` functions to build and fit the model.\n",
        "\n",
        "   ```python\n",
        "   logreg_model = sm.Logit(y, X).fit()\n",
        "   logreg_model.summary2()\n",
        "   ```\n",
        "\n",
        "3. **Check Results**: Using `summary2()`, we check how well the model performed.\n",
        "\n",
        "Logistic Regression gives an output in probabilities, meaning it shows the chances that the answer is \"Yes\" (1) or \"No\" (0).\n",
        "\n",
        "\n",
        "## Poisson Regression\n",
        "Poisson Regression is used when we want to predict a \"count\" of events, like the number of times a customer will call customer service. It provides count-type answers (e.g., 0, 1, 2, 3, etc.).\n",
        "\n",
        "### How to Perform Poisson Regression Using Python\n",
        "Doing Poisson Regression in Python is also simple. Follow these steps:\n",
        "\n",
        "1. **Load and Convert Data**: First, we load the data and convert any categorical data to a \"dummy variable.\"\n",
        "\n",
        "   ```python\n",
        "   import pandas as pd\n",
        "   import statsmodels.api as sm\n",
        "   \n",
        "   churn = pd.read_csv(\"churn.csv\")\n",
        "   churn_ind = pd.get_dummies(churn['Churn'], drop_first=True)\n",
        "   X = sm.add_constant(pd.DataFrame(churn_ind))\n",
        "   y = pd.DataFrame(churn[['CustServ Calls']])\n",
        "   ```\n",
        "\n",
        "2. **Fit the Poisson Model**: Using the `GLM()` function and `Poisson()` family, we fit the Poisson Regression model.\n",
        "\n",
        "   ```python\n",
        "   poisreg_model = sm.GLM(y, X, family=sm.families.Poisson()).fit()\n",
        "   poisreg_model.summary()\n",
        "   ```\n",
        "\n",
        "3. **Check Results**: Using `summary()`, we can check the results of the model and see which predictor is important.\n",
        "\n",
        "In short, **Logistic Regression** is used for binary (Yes/No) predictions, and **Poisson Regression** is used for count predictions.\n",
        "```\n"
      ],
      "metadata": {
        "id": "Ll8G7mH2m96R"
      }
    }
  ]
}