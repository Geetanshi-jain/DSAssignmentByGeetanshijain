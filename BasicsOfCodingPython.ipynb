{
  "nbformat": 4,
  "nbformat_minor": 0,
  "metadata": {
    "colab": {
      "provenance": [],
      "mount_file_id": "https://github.com/Geetanshi-jain/DSAssignmentByGeetanshijain/blob/main/BasicsOfCodingPython.ipynb",
      "authorship_tag": "ABX9TyPH7KKd5XN76nlggI+DGgao",
      "include_colab_link": true
    },
    "kernelspec": {
      "name": "python3",
      "display_name": "Python 3"
    },
    "language_info": {
      "name": "python"
    }
  },
  "cells": [
    {
      "cell_type": "markdown",
      "metadata": {
        "id": "view-in-github",
        "colab_type": "text"
      },
      "source": [
        "<a href=\"https://colab.research.google.com/github/Geetanshi-jain/DSAssignmentByGeetanshijain/blob/main/BasicsOfCodingPython.ipynb\" target=\"_parent\"><img src=\"https://colab.research.google.com/assets/colab-badge.svg\" alt=\"Open In Colab\"/></a>"
      ]
    },
    {
      "cell_type": "code",
      "execution_count": null,
      "metadata": {
        "colab": {
          "base_uri": "https://localhost:8080/"
        },
        "id": "kGZqfqscuJDe",
        "outputId": "de1f4c56-ad7a-4536-95c0-38204beec8f6"
      },
      "outputs": [
        {
          "output_type": "stream",
          "name": "stdout",
          "text": [
            "Python\n"
          ]
        }
      ],
      "source": [
        "#Using Comments R/Python\n",
        "#Single-line comments:\n",
        "\n",
        "\n",
        "# This is a single-line comment\n",
        "# Multi-line comments (using triple quotes)\n",
        "\"\"\"\n",
        "This is a multi-line comment\n",
        "or docstring.\n",
        "\"\"\""
      ]
    },
    {
      "cell_type": "code",
      "source": [
        "## 2. Executing Commands in Python\n",
        "# Commands are executed line by line in Python scripts or interactive consoles\n",
        "print(\"Hello, Python!\")  # Print a statement\n",
        "result = 2 + 3"
      ],
      "metadata": {
        "colab": {
          "base_uri": "https://localhost:8080/"
        },
        "id": "2bL3_conuvf0",
        "outputId": "48ce4e93-13ae-422a-944e-61760ac12cd8"
      },
      "execution_count": 1,
      "outputs": [
        {
          "output_type": "stream",
          "name": "stdout",
          "text": [
            "Hello, Python!\n"
          ]
        }
      ]
    },
    {
      "cell_type": "code",
      "source": [
        "\n",
        "## 3. Importing Packages in Python\n",
        "# To use external libraries in Python, you need to import them\n",
        "import math               # Import a standard library module\n",
        "from datetime import datetime  # Import specific parts of a module\n",
        "print(math.sqrt(16))\n",
        "# Using a function from the math package\n",
        "print(datetime.now())"
      ],
      "metadata": {
        "colab": {
          "base_uri": "https://localhost:8080/"
        },
        "id": "-y48iVJj9JrJ",
        "outputId": "4215932a-840c-4f06-d604-1ecd4d16438b"
      },
      "execution_count": 2,
      "outputs": [
        {
          "output_type": "stream",
          "name": "stdout",
          "text": [
            "4.0\n",
            "2024-10-24 09:57:05.127718\n"
          ]
        }
      ]
    },
    {
      "cell_type": "code",
      "source": [
        "# Get the current date and time\n",
        "## 4. Getting Data into Python\n",
        "# You can get data into Python in many ways, such as reading from files or using libraries like pandas for structured data\n",
        "# Reading from a file\n",
        "with open('data.txt', 'r') as file:\n",
        "    data = file.read()\n",
        "print(data)\n",
        "# Reading CSV files using pandas\n",
        "import pandas as pd\n",
        "df = pd.read_csv('data.csv')\n",
        "print(df.head())  # Show the first few rows of the data"
      ],
      "metadata": {
        "colab": {
          "base_uri": "https://localhost:8080/"
        },
        "id": "J6xAvySF9WYB",
        "outputId": "8fb0a9d0-5a44-4212-b296-25baa3a5d83b"
      },
      "execution_count": 3,
      "outputs": [
        {
          "output_type": "stream",
          "name": "stdout",
          "text": [
            "Name,Age,Location\n",
            "Alice,30,New York\n",
            "Bob,25,Los Angeles\n",
            "Charlie,35,Chicago\n",
            "\n",
            "      Name  Age     Location\n",
            "0    Alice   30     New York\n",
            "1      Bob   25  Los Angeles\n",
            "2  Charlie   35      Chicago\n"
          ]
        }
      ]
    },
    {
      "cell_type": "code",
      "source": [
        "## 5. Saving Output in Python\n",
        "# Saving text to a file\n",
        "output = \"Hello, Python!\"\n",
        "with open('output.txt', 'w') as file:\n",
        "    file.write(output)\n",
        "# Saving data using pandas\n",
        "df.to_csv('output.csv', index=False)  # Save DataFrame as CSV"
      ],
      "metadata": {
        "id": "jF8Xtu72_VH4"
      },
      "execution_count": 4,
      "outputs": []
    },
    {
      "cell_type": "code",
      "source": [
        "## 6. Accessing Records and Variables in Python\n",
        "# Lists (accessing elements)\n",
        "my_list = [10, 20, 30, 40]\n",
        "print(my_list[0])"
      ],
      "metadata": {
        "colab": {
          "base_uri": "https://localhost:8080/"
        },
        "id": "ngCZkqENAflS",
        "outputId": "6a7c9d17-5382-47eb-a44c-f3cf9d567e63"
      },
      "execution_count": 5,
      "outputs": [
        {
          "output_type": "stream",
          "name": "stdout",
          "text": [
            "10\n"
          ]
        }
      ]
    },
    {
      "cell_type": "code",
      "source": [
        "#Access the first element (index 0)\n",
        "# Dictionaries (accessing key-value pairs)\n",
        "my_dict = {'name': 'John', 'age': 30}\n",
        "print(my_dict['name'])  # Access value by key\n",
        "# DataFrames (accessing rows/columns)\n",
        "df = pd.DataFrame({'name': ['Alice', 'Bob'], 'age': [25, 30]})\n",
        "print(df['name'])       # Access a column\n",
        "print(df.iloc[0])      # Access the first row\n"
      ],
      "metadata": {
        "colab": {
          "base_uri": "https://localhost:8080/"
        },
        "id": "eCz49XyrAlKj",
        "outputId": "3ceaf869-5263-46cb-d040-59297606a2ab"
      },
      "execution_count": 6,
      "outputs": [
        {
          "output_type": "stream",
          "name": "stdout",
          "text": [
            "John\n",
            "0    Alice\n",
            "1      Bob\n",
            "Name: name, dtype: object\n",
            "name    Alice\n",
            "age        25\n",
            "Name: 0, dtype: object\n"
          ]
        }
      ]
    }
  ]
}