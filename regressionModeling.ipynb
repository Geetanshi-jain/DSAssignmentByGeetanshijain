{
  "nbformat": 4,
  "nbformat_minor": 0,
  "metadata": {
    "colab": {
      "provenance": [],
      "authorship_tag": "ABX9TyM4Vf1dyWbko7lEOkc32Cy5",
      "include_colab_link": true
    },
    "kernelspec": {
      "name": "python3",
      "display_name": "Python 3"
    },
    "language_info": {
      "name": "python"
    }
  },
  "cells": [
    {
      "cell_type": "markdown",
      "metadata": {
        "id": "view-in-github",
        "colab_type": "text"
      },
      "source": [
        "<a href=\"https://colab.research.google.com/github/Geetanshi-jain/DSAssignmentByGeetanshijain/blob/main/regressionModeling.ipynb\" target=\"_parent\"><img src=\"https://colab.research.google.com/assets/colab-badge.svg\" alt=\"Open In Colab\"/></a>"
      ]
    },
    {
      "cell_type": "code",
      "execution_count": 4,
      "metadata": {
        "colab": {
          "base_uri": "https://localhost:8080/"
        },
        "id": "GM1amGWpO-Lk",
        "outputId": "909510d1-32aa-449f-9d65-1c9fd2d9087f"
      },
      "outputs": [
        {
          "output_type": "stream",
          "name": "stdout",
          "text": [
            "Predicted sales for customer 1: $533.00\n",
            "The MAE value is $25.00, representing the average error between predicted and actual values.\n"
          ]
        }
      ],
      "source": [
        "import numpy as np\n",
        "from sklearn.linear_model import LinearRegression\n",
        "from sklearn.metrics import mean_absolute_error\n",
        "from sklearn.model_selection import train_test_split\n",
        "\n",
        "# Sample data for demonstration\n",
        "# Assume we have features: constant, credit card usage, and days since purchase\n",
        "X = np.array([[1, 0, 300], [1, 1, 250], [1, 0, 400], [1, 1, 150]])  # Feature data\n",
        "y = np.array([500, 450, 600, 300])  # Target data (Sales per Visit)\n",
        "\n",
        "# Split data into training and test sets\n",
        "X_train, X_test, y_train, y_test = train_test_split(X, y, test_size=0.5, random_state=42)\n",
        "\n",
        "# Train a model (example: Linear Regression)\n",
        "model02 = LinearRegression()\n",
        "model02.fit(X_train, y_train)\n",
        "\n",
        "# Define the customer data and make a prediction\n",
        "cust1 = np.array([[1, 0, 333]])  # constant = 1, CC = 0, Days = 333\n",
        "predicted_sales = model02.predict(cust1)\n",
        "print(f\"Predicted sales for customer 1: ${predicted_sales[0]:.2f}\")\n",
        "\n",
        "# Predict on the test set and calculate mean absolute error (MAE)\n",
        "ypred = model02.predict(X_test)\n",
        "mae = mean_absolute_error(y_true=y_test, y_pred=ypred)\n",
        "\n",
        "print(f\"The MAE value is ${mae:.2f}, representing the average error between predicted and actual values.\")\n"
      ]
    },
    {
      "cell_type": "code",
      "source": [
        "\n",
        "import numpy as np\n",
        "import pandas as pd\n",
        "import statsmodels.api as sm\n",
        "from sklearn.metrics import mean_absolute_error\n",
        "\n",
        "def stepwise_selection(X, y,\n",
        "                       initial_list=[],\n",
        "                       threshold_in=0.05,\n",
        "                       threshold_out=0.05,\n",
        "                       verbose=True):\n",
        "    \"\"\"Perform a forward-backward feature selection based on p-values.\"\"\"\n",
        "    included = list(initial_list)\n",
        "    while True:\n",
        "        changed = False\n",
        "\n",
        "        # Forward Step\n",
        "        excluded = list(set(X.columns) - set(included))\n",
        "        new_pval = pd.Series(index=excluded)\n",
        "        for new_column in excluded:\n",
        "            model = sm.OLS(y, sm.add_constant(pd.DataFrame(X[included + [new_column]]))).fit()\n",
        "            new_pval[new_column] = model.pvalues[new_column]\n",
        "        best_pval = new_pval.min()\n",
        "        if best_pval < threshold_in:\n",
        "            best_feature = new_pval.idxmin()\n",
        "            included.append(best_feature)\n",
        "            changed = True\n",
        "            if verbose:\n",
        "                print(f'Add  {best_feature} with p-value {best_pval}')\n",
        "\n",
        "        # Backward Step\n",
        "        model = sm.OLS(y, sm.add_constant(pd.DataFrame(X[included]))).fit()\n",
        "        pvalues = model.pvalues.iloc[1:]  # all p-values except for the intercept\n",
        "        worst_pval = pvalues.max()  # null if pvalues is empty\n",
        "        if worst_pval > threshold_out:\n",
        "            worst_feature = pvalues.idxmax()\n",
        "            included.remove(worst_feature)\n",
        "            changed = True\n",
        "            if verbose:\n",
        "                print(f'Remove {worst_feature} with p-value {worst_pval}')\n",
        "\n",
        "        if not changed:\n",
        "            break\n",
        "\n",
        "    return included\n",
        "\n"
      ],
      "metadata": {
        "id": "pNyjsfScRpu7"
      },
      "execution_count": 5,
      "outputs": []
    },
    {
      "cell_type": "code",
      "source": [
        "# Sample data\n",
        "data = pd.DataFrame({\n",
        "    'Sales': [500, 450, 600, 300],\n",
        "    'Days': [300, 250, 400, 150],\n",
        "    'CreditCard': [0, 1, 0, 1],\n",
        "    'Web': [1, 0, 1, 0]\n",
        "})\n",
        "\n",
        "X = data[['Days', 'CreditCard', 'Web']]\n",
        "y = data['Sales']\n",
        "\n",
        "# Run stepwise selection\n",
        "selected_features = stepwise_selection(X, y)\n",
        "\n",
        "# Final model using selected features\n",
        "model = sm.OLS(y, sm.add_constant(X[selected_features])).fit()\n",
        "print(model.summary())\n"
      ],
      "metadata": {
        "colab": {
          "base_uri": "https://localhost:8080/"
        },
        "id": "34hLKjNMUSYJ",
        "outputId": "bf99801f-7262-49b5-f35d-74bd7924fcff"
      },
      "execution_count": 7,
      "outputs": [
        {
          "output_type": "stream",
          "name": "stdout",
          "text": [
            "Add  Days with p-value 0.0072054464084597755\n",
            "                            OLS Regression Results                            \n",
            "==============================================================================\n",
            "Dep. Variable:                  Sales   R-squared:                       0.986\n",
            "Model:                            OLS   Adj. R-squared:                  0.978\n",
            "Method:                 Least Squares   F-statistic:                     137.3\n",
            "Date:                Tue, 05 Nov 2024   Prob (F-statistic):            0.00721\n",
            "Time:                        17:15:29   Log-Likelihood:                -15.927\n",
            "No. Observations:                   4   AIC:                             35.85\n",
            "Df Residuals:                       2   BIC:                             34.63\n",
            "Df Model:                           1                                         \n",
            "Covariance Type:            nonrobust                                         \n",
            "==============================================================================\n",
            "                 coef    std err          t      P>|t|      [0.025      0.975]\n",
            "------------------------------------------------------------------------------\n",
            "const        134.6154     29.449      4.571      0.045       7.907     261.323\n",
            "Days           1.1923      0.102     11.717      0.007       0.754       1.630\n",
            "==============================================================================\n",
            "Omnibus:                          nan   Durbin-Watson:                   1.379\n",
            "Prob(Omnibus):                    nan   Jarque-Bera (JB):                0.523\n",
            "Skew:                           0.191   Prob(JB):                        0.770\n",
            "Kurtosis:                       1.270   Cond. No.                         929.\n",
            "==============================================================================\n",
            "\n",
            "Notes:\n",
            "[1] Standard Errors assume that the covariance matrix of the errors is correctly specified.\n"
          ]
        },
        {
          "output_type": "stream",
          "name": "stderr",
          "text": [
            "/usr/local/lib/python3.10/dist-packages/statsmodels/stats/stattools.py:74: ValueWarning: omni_normtest is not valid with less than 8 observations; 4 samples were given.\n",
            "  warn(\"omni_normtest is not valid with less than 8 observations; %i \"\n"
          ]
        }
      ]
    },
    {
      "cell_type": "code",
      "source": [
        "#Example of Comparing Models\n",
        "\n",
        "#To evaluate the effectiveness of your model,\n",
        "#compare the Mean Absolute Error (MAE) of your regression model to a baseline.\n",
        "# Example Baseline model - predict the mean of y for all observations\n",
        "baseline_pred = [y.mean()] * len(y)\n",
        "baseline_mae = mean_absolute_error(y, baseline_pred)\n",
        "\n",
        "# Prediction with the regression model\n",
        "y_pred = model.predict(sm.add_constant(X[selected_features]))\n",
        "model_mae = mean_absolute_error(y, y_pred)\n",
        "\n",
        "print(f\"Baseline MAE: ${baseline_mae:.2f}\")\n",
        "print(f\"Regression Model MAE: ${model_mae:.2f}\")\n",
        "\n",
        "# Comparison\n",
        "if model_mae < baseline_mae:\n",
        "    print(\"The regression model performs better than the baseline.\")\n",
        "else:\n",
        "    print(\"The baseline model performs better than the regression model.\")\n"
      ],
      "metadata": {
        "colab": {
          "base_uri": "https://localhost:8080/"
        },
        "id": "AGmu3ijGVtAp",
        "outputId": "a3b040e3-2aa5-48f2-e076-cf90a2e2c1af"
      },
      "execution_count": 9,
      "outputs": [
        {
          "output_type": "stream",
          "name": "stdout",
          "text": [
            "Baseline MAE: $87.50\n",
            "Regression Model MAE: $12.50\n",
            "The regression model performs better than the baseline.\n"
          ]
        }
      ]
    },
    {
      "cell_type": "code",
      "source": [
        "# Example Baseline model - predict the mean of y for all observations\n",
        "baseline_pred = [y.mean()] * len(y)\n",
        "baseline_mae = mean_absolute_error(y, baseline_pred)\n",
        "\n",
        "# Prediction with the regression model\n",
        "y_pred = model.predict(sm.add_constant(X[selected_features]))\n",
        "model_mae = mean_absolute_error(y, y_pred)\n",
        "\n",
        "print(f\"Baseline MAE: ${baseline_mae:.2f}\")\n",
        "print(f\"Regression Model MAE: ${model_mae:.2f}\")\n",
        "\n",
        "# Comparison\n",
        "if model_mae < baseline_mae:\n",
        "    print(\"The regression model performs better than the baseline.\")\n",
        "else:\n",
        "    print(\"The baseline model performs better than the regression model.\")\n"
      ],
      "metadata": {
        "colab": {
          "base_uri": "https://localhost:8080/"
        },
        "id": "zNK9qCY2W9Zs",
        "outputId": "fa58c7a1-be75-497b-b808-3c9659586c9d"
      },
      "execution_count": 10,
      "outputs": [
        {
          "output_type": "stream",
          "name": "stdout",
          "text": [
            "Baseline MAE: $87.50\n",
            "Regression Model MAE: $12.50\n",
            "The regression model performs better than the baseline.\n"
          ]
        }
      ]
    }
  ]
}