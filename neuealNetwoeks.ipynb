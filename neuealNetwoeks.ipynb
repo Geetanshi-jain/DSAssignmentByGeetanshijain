{
  "nbformat": 4,
  "nbformat_minor": 0,
  "metadata": {
    "colab": {
      "provenance": [],
      "authorship_tag": "ABX9TyMuKOI91xLrjOLPb7hqJ27d",
      "include_colab_link": true
    },
    "kernelspec": {
      "name": "python3",
      "display_name": "Python 3"
    },
    "language_info": {
      "name": "python"
    }
  },
  "cells": [
    {
      "cell_type": "markdown",
      "metadata": {
        "id": "view-in-github",
        "colab_type": "text"
      },
      "source": [
        "<a href=\"https://colab.research.google.com/github/Geetanshi-jain/DSAssignmentByGeetanshijain/blob/main/neuealNetwoeks.ipynb\" target=\"_parent\"><img src=\"https://colab.research.google.com/assets/colab-badge.svg\" alt=\"Open In Colab\"/></a>"
      ]
    },
    {
      "cell_type": "code",
      "source": [
        "import pandas as pd\n",
        "import numpy as np\n",
        "from sklearn.model_selection import train_test_split\n",
        "from sklearn.preprocessing import StandardScaler\n",
        "import tensorflow as tf\n",
        "\n",
        "# Sample dataset: Simulate Framingham Heart Study Data\n",
        "data = {\n",
        "    'Sex': [1, 2, 1, 2, 1, 2, 1, 2] * 1000,  # Sex: 1 = Male, 2 = Female\n",
        "    'Age': np.random.randint(30, 80, size=8000),  # Random ages between 30 and 80\n",
        "    'Death': np.random.randint(0, 2, size=8000)  # Target: 0 = Survived, 1 = Death\n",
        "}\n",
        "\n",
        "df = pd.DataFrame(data)\n",
        "\n",
        "# Split the data into features (X) and target (y)\n",
        "X = df[['Sex', 'Age']]\n",
        "y = df['Death']\n",
        "\n",
        "# Split the dataset into training and test sets\n",
        "X_train, X_test, y_train, y_test = train_test_split(X, y, test_size=0.2, random_state=42)\n",
        "\n",
        "# Standardize the Age feature using StandardScaler\n",
        "scaler = StandardScaler()\n",
        "X_train['Age'] = scaler.fit_transform(X_train[['Age']].values)\n",
        "X_test['Age'] = scaler.transform(X_test[['Age']].values)\n",
        "\"\"\"StandardScaler: Used to scale the Age column. Standardization is necessary because neural networks perform better when features are on similar scales.\n",
        "fit_transform: Fits the scaler on the training data and transforms it.\n",
        "transform: Applies the already fitted scaler to the test data\"\"\"\n",
        "\n",
        "# Build the neural network model\n",
        "model = tf.keras.Sequential([\n",
        "    tf.keras.layers.Dense(10, activation='relu', input_shape=(2,)),  # Hidden layer with 10 neurons\n",
        "    tf.keras.layers.Dense(1, activation='sigmoid')  # Output layer for binary classification\n",
        "])\n",
        "\n",
        "# Compile the model with Adam optimizer, binary crossentropy loss, and accuracy as the metric\n",
        "model.compile(optimizer='adam', loss='binary_crossentropy', metrics=['accuracy'])\n",
        "\n",
        "# Train the model with training data (20 epochs, batch size of 32, 20% validation split)\n",
        "model.fit(X_train, y_train, epochs=20, batch_size=32, validation_split=0.2)\n",
        "\"\"\"epochs=20: The number of times the entire training data will pass through the model.\n",
        "batch_size=32: The model will process 32 samples at a time before updating the weights.\n",
        "validation_split=0.2: 20% of the training data is used as validation data to monitor how the\n",
        " model performs on unseen data during training.\"\"\"\n",
        "\n",
        "\n",
        "# Evaluate the model on the test data\n",
        "test_loss, test_acc = model.evaluate(X_test, y_test)\n",
        "print(f'Test accuracy: {test_acc:.4f}')\n",
        "\n",
        "# Analyze the weights and biases of the first hidden layer\n",
        "weights, biases = model.layers[0].get_weights()\n",
        "print(\"Weights:\", weights)\n",
        "print(\"Biases:\", biases)\n"
      ],
      "metadata": {
        "colab": {
          "base_uri": "https://localhost:8080/"
        },
        "id": "uEaJrSV5yOOq",
        "outputId": "0f7af369-218d-411e-e96b-b0a128e67276"
      },
      "execution_count": 2,
      "outputs": [
        {
          "output_type": "stream",
          "name": "stderr",
          "text": [
            "/usr/local/lib/python3.10/dist-packages/keras/src/layers/core/dense.py:87: UserWarning: Do not pass an `input_shape`/`input_dim` argument to a layer. When using Sequential models, prefer using an `Input(shape)` object as the first layer in the model instead.\n",
            "  super().__init__(activity_regularizer=activity_regularizer, **kwargs)\n"
          ]
        },
        {
          "output_type": "stream",
          "name": "stdout",
          "text": [
            "Epoch 1/20\n",
            "\u001b[1m160/160\u001b[0m \u001b[32m━━━━━━━━━━━━━━━━━━━━\u001b[0m\u001b[37m\u001b[0m \u001b[1m4s\u001b[0m 8ms/step - accuracy: 0.4900 - loss: 0.7227 - val_accuracy: 0.4938 - val_loss: 0.6952\n",
            "Epoch 2/20\n",
            "\u001b[1m160/160\u001b[0m \u001b[32m━━━━━━━━━━━━━━━━━━━━\u001b[0m\u001b[37m\u001b[0m \u001b[1m1s\u001b[0m 3ms/step - accuracy: 0.5024 - loss: 0.6935 - val_accuracy: 0.5055 - val_loss: 0.6939\n",
            "Epoch 3/20\n",
            "\u001b[1m160/160\u001b[0m \u001b[32m━━━━━━━━━━━━━━━━━━━━\u001b[0m\u001b[37m\u001b[0m \u001b[1m0s\u001b[0m 2ms/step - accuracy: 0.5105 - loss: 0.6928 - val_accuracy: 0.5008 - val_loss: 0.6944\n",
            "Epoch 4/20\n",
            "\u001b[1m160/160\u001b[0m \u001b[32m━━━━━━━━━━━━━━━━━━━━\u001b[0m\u001b[37m\u001b[0m \u001b[1m1s\u001b[0m 2ms/step - accuracy: 0.5185 - loss: 0.6931 - val_accuracy: 0.4977 - val_loss: 0.6956\n",
            "Epoch 5/20\n",
            "\u001b[1m160/160\u001b[0m \u001b[32m━━━━━━━━━━━━━━━━━━━━\u001b[0m\u001b[37m\u001b[0m \u001b[1m1s\u001b[0m 3ms/step - accuracy: 0.5141 - loss: 0.6917 - val_accuracy: 0.4992 - val_loss: 0.6949\n",
            "Epoch 6/20\n",
            "\u001b[1m160/160\u001b[0m \u001b[32m━━━━━━━━━━━━━━━━━━━━\u001b[0m\u001b[37m\u001b[0m \u001b[1m1s\u001b[0m 3ms/step - accuracy: 0.5110 - loss: 0.6926 - val_accuracy: 0.5016 - val_loss: 0.6941\n",
            "Epoch 7/20\n",
            "\u001b[1m160/160\u001b[0m \u001b[32m━━━━━━━━━━━━━━━━━━━━\u001b[0m\u001b[37m\u001b[0m \u001b[1m1s\u001b[0m 2ms/step - accuracy: 0.5112 - loss: 0.6925 - val_accuracy: 0.4875 - val_loss: 0.6945\n",
            "Epoch 8/20\n",
            "\u001b[1m160/160\u001b[0m \u001b[32m━━━━━━━━━━━━━━━━━━━━\u001b[0m\u001b[37m\u001b[0m \u001b[1m0s\u001b[0m 2ms/step - accuracy: 0.5169 - loss: 0.6921 - val_accuracy: 0.5016 - val_loss: 0.6945\n",
            "Epoch 9/20\n",
            "\u001b[1m160/160\u001b[0m \u001b[32m━━━━━━━━━━━━━━━━━━━━\u001b[0m\u001b[37m\u001b[0m \u001b[1m0s\u001b[0m 2ms/step - accuracy: 0.4963 - loss: 0.6936 - val_accuracy: 0.4938 - val_loss: 0.6950\n",
            "Epoch 10/20\n",
            "\u001b[1m160/160\u001b[0m \u001b[32m━━━━━━━━━━━━━━━━━━━━\u001b[0m\u001b[37m\u001b[0m \u001b[1m0s\u001b[0m 2ms/step - accuracy: 0.5084 - loss: 0.6925 - val_accuracy: 0.4969 - val_loss: 0.6944\n",
            "Epoch 11/20\n",
            "\u001b[1m160/160\u001b[0m \u001b[32m━━━━━━━━━━━━━━━━━━━━\u001b[0m\u001b[37m\u001b[0m \u001b[1m0s\u001b[0m 2ms/step - accuracy: 0.5062 - loss: 0.6934 - val_accuracy: 0.4930 - val_loss: 0.6950\n",
            "Epoch 12/20\n",
            "\u001b[1m160/160\u001b[0m \u001b[32m━━━━━━━━━━━━━━━━━━━━\u001b[0m\u001b[37m\u001b[0m \u001b[1m0s\u001b[0m 2ms/step - accuracy: 0.5141 - loss: 0.6923 - val_accuracy: 0.5070 - val_loss: 0.6950\n",
            "Epoch 13/20\n",
            "\u001b[1m160/160\u001b[0m \u001b[32m━━━━━━━━━━━━━━━━━━━━\u001b[0m\u001b[37m\u001b[0m \u001b[1m0s\u001b[0m 2ms/step - accuracy: 0.5195 - loss: 0.6920 - val_accuracy: 0.4922 - val_loss: 0.6945\n",
            "Epoch 14/20\n",
            "\u001b[1m160/160\u001b[0m \u001b[32m━━━━━━━━━━━━━━━━━━━━\u001b[0m\u001b[37m\u001b[0m \u001b[1m0s\u001b[0m 2ms/step - accuracy: 0.5129 - loss: 0.6925 - val_accuracy: 0.5023 - val_loss: 0.6953\n",
            "Epoch 15/20\n",
            "\u001b[1m160/160\u001b[0m \u001b[32m━━━━━━━━━━━━━━━━━━━━\u001b[0m\u001b[37m\u001b[0m \u001b[1m0s\u001b[0m 2ms/step - accuracy: 0.5052 - loss: 0.6930 - val_accuracy: 0.4867 - val_loss: 0.6952\n",
            "Epoch 16/20\n",
            "\u001b[1m160/160\u001b[0m \u001b[32m━━━━━━━━━━━━━━━━━━━━\u001b[0m\u001b[37m\u001b[0m \u001b[1m0s\u001b[0m 2ms/step - accuracy: 0.5069 - loss: 0.6930 - val_accuracy: 0.4883 - val_loss: 0.6955\n",
            "Epoch 17/20\n",
            "\u001b[1m160/160\u001b[0m \u001b[32m━━━━━━━━━━━━━━━━━━━━\u001b[0m\u001b[37m\u001b[0m \u001b[1m0s\u001b[0m 2ms/step - accuracy: 0.5086 - loss: 0.6930 - val_accuracy: 0.4836 - val_loss: 0.6952\n",
            "Epoch 18/20\n",
            "\u001b[1m160/160\u001b[0m \u001b[32m━━━━━━━━━━━━━━━━━━━━\u001b[0m\u001b[37m\u001b[0m \u001b[1m0s\u001b[0m 2ms/step - accuracy: 0.5110 - loss: 0.6929 - val_accuracy: 0.5000 - val_loss: 0.6962\n",
            "Epoch 19/20\n",
            "\u001b[1m160/160\u001b[0m \u001b[32m━━━━━━━━━━━━━━━━━━━━\u001b[0m\u001b[37m\u001b[0m \u001b[1m0s\u001b[0m 2ms/step - accuracy: 0.5064 - loss: 0.6926 - val_accuracy: 0.4961 - val_loss: 0.6957\n",
            "Epoch 20/20\n",
            "\u001b[1m160/160\u001b[0m \u001b[32m━━━━━━━━━━━━━━━━━━━━\u001b[0m\u001b[37m\u001b[0m \u001b[1m0s\u001b[0m 2ms/step - accuracy: 0.4926 - loss: 0.6934 - val_accuracy: 0.4961 - val_loss: 0.6970\n",
            "\u001b[1m50/50\u001b[0m \u001b[32m━━━━━━━━━━━━━━━━━━━━\u001b[0m\u001b[37m\u001b[0m \u001b[1m0s\u001b[0m 1ms/step - accuracy: 0.4857 - loss: 0.6962 \n",
            "Test accuracy: 0.4737\n",
            "Weights: [[-3.23425164e-04  1.09790280e-01 -1.36152022e-02 -6.15800321e-01\n",
            "   1.57997951e-01  2.51176119e-01  3.64158638e-02  6.67346418e-01\n",
            "   6.88474119e-01  4.09395456e-01]\n",
            " [ 3.91526848e-01 -2.01729685e-01 -1.02257326e-01  4.51476574e-01\n",
            "  -6.61539078e-01 -2.93895811e-01 -2.30355665e-01 -1.13983065e-01\n",
            "   5.23197532e-01  4.94512677e-01]]\n",
            "Biases: [ 0.02811715  0.081948    0.04393715 -0.05973012 -0.0585788  -0.11854341\n",
            "  0.08048549  0.04763893  0.05138452 -0.05216252]\n"
          ]
        }
      ]
    }
  ]
}