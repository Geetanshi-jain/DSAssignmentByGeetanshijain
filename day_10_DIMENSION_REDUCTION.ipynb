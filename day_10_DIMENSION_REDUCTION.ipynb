{
  "nbformat": 4,
  "nbformat_minor": 0,
  "metadata": {
    "colab": {
      "provenance": [],
      "include_colab_link": true
    },
    "kernelspec": {
      "name": "python3",
      "display_name": "Python 3"
    },
    "language_info": {
      "name": "python"
    }
  },
  "cells": [
    {
      "cell_type": "markdown",
      "metadata": {
        "id": "view-in-github",
        "colab_type": "text"
      },
      "source": [
        "<a href=\"https://colab.research.google.com/github/Geetanshi-jain/DSAssignmentByGeetanshijain/blob/main/day_10_DIMENSION_REDUCTION.ipynb\" target=\"_parent\"><img src=\"https://colab.research.google.com/assets/colab-badge.svg\" alt=\"Open In Colab\"/></a>"
      ]
    },
    {
      "cell_type": "markdown",
      "source": [],
      "metadata": {
        "id": "ZciJ_H1Pl_53"
      }
    },
    {
      "cell_type": "code",
      "source": [
        "from google.colab import drive\n",
        "drive.mount('/content/drive')"
      ],
      "metadata": {
        "id": "ve-Go1o9mptG",
        "outputId": "56cfe09a-3367-4d85-a1b5-def8f18413d5",
        "colab": {
          "base_uri": "https://localhost:8080/"
        }
      },
      "execution_count": 12,
      "outputs": [
        {
          "output_type": "stream",
          "name": "stdout",
          "text": [
            "Drive already mounted at /content/drive; to attempt to forcibly remount, call drive.mount(\"/content/drive\", force_remount=True).\n"
          ]
        }
      ]
    },
    {
      "cell_type": "code",
      "source": [
        "import pandas as pd\n",
        "import numpy as np\n",
        "from statsmodels.stats.outliers_influence import variance_inflation_factor\n",
        "import statsmodels.api as sm\n",
        "\n",
        "# Sample Data\n",
        "data = {\n",
        "    'House_Size': [1500, 2000, 2500, 3000, 3500],\n",
        "    'Bedrooms': [3, 4, 4, 5, 6],\n",
        "    'Bathrooms': [2, 2, 3, 3, 4],\n",
        "    'Garage_Size': [500, 550, 600, 650, 700]\n",
        "}\n",
        "\n",
        "df = pd.DataFrame(data)\n",
        "\n",
        "# Check correlation matrix to identify strong correlations\n",
        "correlation_matrix = df.corr()\n",
        "print(\"Correlation Matrix:\\n\", correlation_matrix)\n",
        "\n",
        "# If there’s high correlation, drop one of the correlated features\n",
        "# Dropping 'Garage_Size' due to high correlation with 'House_Size'\n",
        "df = df.drop(columns=['Garage_Size'])\n",
        "\n",
        "# Add a constant for intercept term\n",
        "X = sm.add_constant(df)\n",
        "\n",
        "# Calculate VIF\n",
        "vif_data = pd.DataFrame()\n",
        "vif_data['Variable'] = X.columns\n",
        "vif_data['VIF'] = [variance_inflation_factor(X.values, i) for i in range(X.shape[1])]\n",
        "\n",
        "print(\"\\nVIF after dropping highly correlated variables:\\n\", vif_data)\n"
      ],
      "metadata": {
        "id": "sfsnS4G5G0Ds",
        "outputId": "d90ddfb9-ed51-4f29-c79f-60a5203602ff",
        "colab": {
          "base_uri": "https://localhost:8080/"
        }
      },
      "execution_count": 14,
      "outputs": [
        {
          "output_type": "stream",
          "name": "stdout",
          "text": [
            "Correlation Matrix:\n",
            "              House_Size  Bedrooms  Bathrooms  Garage_Size\n",
            "House_Size     1.000000  0.970725   0.944911     1.000000\n",
            "Bedrooms       0.970725  1.000000   0.891042     0.970725\n",
            "Bathrooms      0.944911  0.891042   1.000000     0.944911\n",
            "Garage_Size    1.000000  0.970725   0.944911     1.000000\n",
            "\n",
            "VIF after dropping highly correlated variables:\n",
            "      Variable    VIF\n",
            "0       const  33.75\n",
            "1  House_Size  37.50\n",
            "2    Bedrooms  19.50\n",
            "3   Bathrooms  10.50\n"
          ]
        }
      ]
    },
    {
      "cell_type": "markdown",
      "source": [],
      "metadata": {
        "id": "fqHhb0IeMQnW"
      }
    },
    {
      "cell_type": "markdown",
      "source": [],
      "metadata": {
        "id": "jPIRZuOxMM-j"
      }
    },
    {
      "cell_type": "code",
      "source": [
        "from sklearn.decomposition import PCA\n",
        "from sklearn.preprocessing import StandardScaler\n",
        "\n",
        "# Standardize data\n",
        "scaler = StandardScaler()\n",
        "df_scaled = scaler.fit_transform(df)\n",
        "\n",
        "# Apply PCA to reduce correlated features\n",
        "pca = PCA(n_components=1)  # Keep one principal component\n",
        "principal_component = pca.fit_transform(df_scaled)\n",
        "\n",
        "# Add the principal component to a DataFrame\n",
        "df_pca = pd.DataFrame(principal_component, columns=['Combined_Size'])\n",
        "\n",
        "# Calculate VIF on the new data\n",
        "X = sm.add_constant(df_pca)\n",
        "vif_data = pd.DataFrame()\n",
        "vif_data['Variable'] = X.columns\n",
        "vif_data['VIF'] = [variance_inflation_factor(X.values, i) for i in range(X.shape[1])]\n",
        "\n",
        "print(\"\\nVIF after PCA:\\n\", vif_data)\n"
      ],
      "metadata": {
        "id": "9rVh25o3OqM6",
        "outputId": "6499f288-1041-4ba5-9a23-e7ed009a8011",
        "colab": {
          "base_uri": "https://localhost:8080/"
        }
      },
      "execution_count": 15,
      "outputs": [
        {
          "output_type": "stream",
          "name": "stdout",
          "text": [
            "\n",
            "VIF after PCA:\n",
            "         Variable  VIF\n",
            "0          const  1.0\n",
            "1  Combined_Size  1.0\n"
          ]
        }
      ]
    },
    {
      "cell_type": "code",
      "source": [],
      "metadata": {
        "id": "PQg1DFFSL_xv"
      },
      "execution_count": 11,
      "outputs": []
    },
    {
      "cell_type": "markdown",
      "source": [
        "\n",
        "\n",
        "\n",
        "\n",
        "\n",
        "\n",
        "\n",
        "\n",
        "\n",
        "\n",
        "\n",
        "\n",
        "\n",
        "\n",
        "\n",
        "\n",
        "\n",
        "\n",
        "\n",
        "\n",
        "\n",
        "\n",
        "\n",
        "\n",
        "\n",
        "\n",
        "\n",
        "\n",
        "\n",
        "\n",
        "\n",
        "\n",
        "\n",
        "\n",
        "\n",
        "\n",
        "\n",
        "\n",
        "\n",
        "\n",
        "\n",
        "\n",
        "\n",
        "\n",
        "\n",
        "\n",
        "\n"
      ],
      "metadata": {
        "id": "_zSJGEc8fldD"
      }
    }
  ]
}